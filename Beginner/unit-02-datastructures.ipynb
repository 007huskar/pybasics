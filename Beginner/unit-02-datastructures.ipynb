{
 "cells": [
  {
   "cell_type": "markdown",
   "metadata": {},
   "source": [
    "# Session 2\n",
    "---\n"
   ]
  },
  {
   "cell_type": "markdown",
   "metadata": {},
   "source": [
    "*When we need to use or store multiple data, we use datastructures. Datastructures are container for data.*"
   ]
  },
  {
   "cell_type": "markdown",
   "metadata": {},
   "source": [
    "### Create a list of second word of each sentence from paragraph."
   ]
  },
  {
   "cell_type": "code",
   "execution_count": 2,
   "metadata": {
    "collapsed": true
   },
   "outputs": [],
   "source": [
    "paragraph = \"\"\"The most basic data structure in Python is the sequence. \n",
    "Each element of a sequence is assigned a number - its position or index. \n",
    "The first index is zero, the second index is one, and so forth.\"\"\""
   ]
  },
  {
   "cell_type": "code",
   "execution_count": 3,
   "metadata": {
    "collapsed": false
   },
   "outputs": [
    {
     "data": {
      "text/plain": [
       "['The most basic data structure in Python is the sequence',\n",
       " ' \\nEach element of a sequence is assigned a number - its position or index',\n",
       " ' \\nThe first index is zero, the second index is one, and so forth',\n",
       " '']"
      ]
     },
     "execution_count": 3,
     "metadata": {},
     "output_type": "execute_result"
    }
   ],
   "source": [
    "paragraph.split('.')"
   ]
  },
  {
   "cell_type": "markdown",
   "metadata": {},
   "source": [
    "*__split()__ function splits string using whatever puntuation we pass into like __dot(.)__.*\n",
    "\n",
    "*The default is to split any text by __space__*\n",
    "\n",
    "*The output is in __list__ ( a datastructure in python ) denoted by __[__ and __]__.*"
   ]
  },
  {
   "cell_type": "code",
   "execution_count": 5,
   "metadata": {
    "collapsed": false
   },
   "outputs": [
    {
     "data": {
      "text/plain": [
       "['The most basic data structure in Python is the sequence',\n",
       " ' \\nEach element of a sequence is assigned a number - its position or index',\n",
       " ' \\nThe first index is zero, the second index is one, and so forth']"
      ]
     },
     "execution_count": 5,
     "metadata": {},
     "output_type": "execute_result"
    }
   ],
   "source": [
    "sentences = []\n",
    "for sentence in paragraph.split('.'):\n",
    "    if sentence:\n",
    "        sentences.append(sentence)\n",
    "sentences"
   ]
  },
  {
   "cell_type": "markdown",
   "metadata": {},
   "source": [
    "*definition*\n",
    "\n",
    "1. we create a empty __list__ denoted by __[]__, ie there is no data originally.\n",
    "2. we split paragraph by '__.__', the dot ( fullstop character ) and we get list of sentences.\n",
    "3. we check if sentence is true.\n",
    "    - a string is true when it is not empty\n",
    "    - a empty string is denoted by __''__\n",
    "        - check the last item in the second cell.\n",
    "4. we append the __sentence__ to __sentences__ list only when the string is true ( ie string is not empty )\n",
    "    - anything inside __if__ only runs when __if__ condition is true.\n",
    "        - anything inside anything is defined by __:__ a colon and indent ( 4 spaces inside )\n",
    "        - such type of colon and indent is called as _block_, so here \n",
    "            - append is inside __if-block__, __if-block__ is again inside __for-block__"
   ]
  },
  {
   "cell_type": "markdown",
   "metadata": {},
   "source": [
    "Let's find what append does,\n",
    "we have"
   ]
  },
  {
   "cell_type": "code",
   "execution_count": 6,
   "metadata": {
    "collapsed": true
   },
   "outputs": [],
   "source": [
    "test_list = []"
   ]
  },
  {
   "cell_type": "code",
   "execution_count": 7,
   "metadata": {
    "collapsed": true
   },
   "outputs": [],
   "source": [
    "test_list.append(2)"
   ]
  },
  {
   "cell_type": "markdown",
   "metadata": {},
   "source": [
    "*we append 2 to empty list, so list contains 2*"
   ]
  },
  {
   "cell_type": "code",
   "execution_count": 8,
   "metadata": {
    "collapsed": false
   },
   "outputs": [
    {
     "name": "stdout",
     "output_type": "stream",
     "text": [
      "[2]\n"
     ]
    }
   ],
   "source": [
    "print(test_list)"
   ]
  },
  {
   "cell_type": "code",
   "execution_count": 9,
   "metadata": {
    "collapsed": true
   },
   "outputs": [],
   "source": [
    "test_list.append(5)"
   ]
  },
  {
   "cell_type": "markdown",
   "metadata": {},
   "source": [
    "*we append 5 to same list, so list contains 2 and 5*"
   ]
  },
  {
   "cell_type": "code",
   "execution_count": 10,
   "metadata": {
    "collapsed": false
   },
   "outputs": [
    {
     "name": "stdout",
     "output_type": "stream",
     "text": [
      "[2, 5]\n"
     ]
    }
   ],
   "source": [
    "print(test_list)"
   ]
  },
  {
   "cell_type": "markdown",
   "metadata": {},
   "source": [
    "*Notice here that, whenever we append some new item to list, list grows bigger and every new item is put at the last of the list.*"
   ]
  },
  {
   "cell_type": "markdown",
   "metadata": {},
   "source": [
    "Let's complete our task"
   ]
  },
  {
   "cell_type": "code",
   "execution_count": 11,
   "metadata": {
    "collapsed": false
   },
   "outputs": [
    {
     "data": {
      "text/plain": [
       "['most', 'element', 'first']"
      ]
     },
     "execution_count": 11,
     "metadata": {},
     "output_type": "execute_result"
    }
   ],
   "source": [
    "words = []\n",
    "for sentence in paragraph.split('.'):\n",
    "    if sentence:\n",
    "        sentence_words = sentence.split()\n",
    "        words.append(sentence_words[1])\n",
    "words"
   ]
  },
  {
   "cell_type": "markdown",
   "metadata": {},
   "source": [
    "*what we did on line 4, is splitted sentence by space to get list of words.*\n",
    "\n",
    "*In line 5, we picked second item ( index 1) from list of words and appended that item to our main list __words__*\n",
    "\n",
    "*Remember every indexing in python works similar to index in strings.*"
   ]
  },
  {
   "cell_type": "code",
   "execution_count": null,
   "metadata": {
    "collapsed": true
   },
   "outputs": [],
   "source": []
  },
  {
   "cell_type": "markdown",
   "metadata": {},
   "source": [
    "### Count words in given paragraph"
   ]
  },
  {
   "cell_type": "markdown",
   "metadata": {},
   "source": [
    "### find if given word is in our story"
   ]
  },
  {
   "cell_type": "code",
   "execution_count": null,
   "metadata": {
    "collapsed": true
   },
   "outputs": [],
   "source": []
  },
  {
   "cell_type": "code",
   "execution_count": null,
   "metadata": {
    "collapsed": true
   },
   "outputs": [],
   "source": []
  }
 ],
 "metadata": {
  "anaconda-cloud": {},
  "kernelspec": {
   "display_name": "Python 3",
   "language": "python",
   "name": "python3"
  },
  "language_info": {
   "codemirror_mode": {
    "name": "ipython",
    "version": 3
   },
   "file_extension": ".py",
   "mimetype": "text/x-python",
   "name": "python",
   "nbconvert_exporter": "python",
   "pygments_lexer": "ipython3",
   "version": "3.5.2"
  }
 },
 "nbformat": 4,
 "nbformat_minor": 1
}
